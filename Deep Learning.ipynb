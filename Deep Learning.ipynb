{
 "cells": [
  {
   "cell_type": "markdown",
   "metadata": {},
   "source": [
    "# Convolutional Neural Network"
   ]
  },
  {
   "cell_type": "markdown",
   "metadata": {},
   "source": [
    "## Part 1 - Building the CNN"
   ]
  },
  {
   "cell_type": "markdown",
   "metadata": {},
   "source": [
    "### Importing the keras libraries and packages"
   ]
  },
  {
   "cell_type": "code",
   "execution_count": 11,
   "metadata": {},
   "outputs": [],
   "source": [
    "import tensorflow as tf\n",
    "from tensorflow.keras import backend as K\n",
    "from tensorflow.keras.layers import Conv2D, MaxPooling2D, Dropout, Flatten, Dense\n",
    "from tensorflow.keras.models import Sequential\n",
    "from tensorflow.keras.preprocessing.image import ImageDataGenerator"
   ]
  },
  {
   "cell_type": "markdown",
   "metadata": {},
   "source": [
    "### Importing the keras libraries and packages"
   ]
  },
  {
   "cell_type": "code",
   "execution_count": 12,
   "metadata": {},
   "outputs": [],
   "source": [
    "classifier = Sequential()"
   ]
  },
  {
   "cell_type": "markdown",
   "metadata": {},
   "source": [
    "#### Step 1 - Convolution"
   ]
  },
  {
   "cell_type": "code",
   "execution_count": 13,
   "metadata": {},
   "outputs": [],
   "source": [
    "classifier.add(Conv2D(32, 3, 3, input_shape = (64, 64, 3), activation = \"relu\"))"
   ]
  },
  {
   "cell_type": "markdown",
   "metadata": {},
   "source": [
    "#### Step 2 - Pooling"
   ]
  },
  {
   "cell_type": "code",
   "execution_count": 14,
   "metadata": {},
   "outputs": [],
   "source": [
    "classifier.add(MaxPooling2D(pool_size = (2, 2)))"
   ]
  },
  {
   "cell_type": "markdown",
   "metadata": {},
   "source": [
    "#### Step 3 - Flattening"
   ]
  },
  {
   "cell_type": "code",
   "execution_count": 15,
   "metadata": {},
   "outputs": [],
   "source": [
    "classifier.add(Flatten())"
   ]
  },
  {
   "cell_type": "markdown",
   "metadata": {},
   "source": [
    "#### Step 4 - Full Connection"
   ]
  },
  {
   "cell_type": "code",
   "execution_count": 16,
   "metadata": {},
   "outputs": [],
   "source": [
    "classifier.add(Dense(activation = \"relu\", units = 128))\n",
    "classifier.add(Dense(activation = \"sigmoid\", units = 1))"
   ]
  },
  {
   "cell_type": "markdown",
   "metadata": {},
   "source": [
    "#### Compiling the CNN"
   ]
  },
  {
   "cell_type": "code",
   "execution_count": 17,
   "metadata": {},
   "outputs": [],
   "source": [
    "classifier.compile(optimizer = 'adam', loss = 'binary_crossentropy', metrics = ['accuracy'])"
   ]
  },
  {
   "cell_type": "markdown",
   "metadata": {},
   "source": [
    "## Part 2 - Fitting the CNN to the images"
   ]
  },
  {
   "cell_type": "code",
   "execution_count": 18,
   "metadata": {},
   "outputs": [
    {
     "name": "stdout",
     "output_type": "stream",
     "text": [
      "Found 22000 images belonging to 2 classes.\n",
      "Found 5558 images belonging to 2 classes.\n",
      "Epoch 1/20\n",
      "1100/1100 [==============================] - 338s 308ms/step - loss: 0.5294 - acc: 0.7434 - val_loss: 0.4482 - val_acc: 0.8109\n",
      "Epoch 2/20\n",
      "1100/1100 [==============================] - 304s 276ms/step - loss: 0.2699 - acc: 0.9015 - val_loss: 0.3180 - val_acc: 0.8674\n",
      "Epoch 3/20\n",
      "1100/1100 [==============================] - 299s 272ms/step - loss: 0.2244 - acc: 0.9201 - val_loss: 0.3066 - val_acc: 0.8645\n",
      "Epoch 4/20\n",
      "1100/1100 [==============================] - 302s 275ms/step - loss: 0.1971 - acc: 0.9321 - val_loss: 0.2605 - val_acc: 0.8886\n",
      "Epoch 5/20\n",
      "1100/1100 [==============================] - 302s 275ms/step - loss: 0.1808 - acc: 0.9391 - val_loss: 0.2569 - val_acc: 0.8862\n",
      "Epoch 6/20\n",
      "1100/1100 [==============================] - 298s 271ms/step - loss: 0.1735 - acc: 0.9424 - val_loss: 0.2318 - val_acc: 0.9012\n",
      "Epoch 7/20\n",
      "1100/1100 [==============================] - 307s 279ms/step - loss: 0.1667 - acc: 0.9459 - val_loss: 0.2194 - val_acc: 0.9096\n",
      "Epoch 8/20\n",
      "1100/1100 [==============================] - 296s 269ms/step - loss: 0.1577 - acc: 0.9497 - val_loss: 0.2137 - val_acc: 0.9202\n",
      "Epoch 9/20\n",
      "1100/1100 [==============================] - 296s 269ms/step - loss: 0.1549 - acc: 0.9497 - val_loss: 0.2203 - val_acc: 0.9178\n",
      "Epoch 10/20\n",
      "1100/1100 [==============================] - 297s 270ms/step - loss: 0.1507 - acc: 0.9497 - val_loss: 0.2143 - val_acc: 0.9241\n",
      "Epoch 11/20\n",
      "1100/1100 [==============================] - 297s 270ms/step - loss: 0.1485 - acc: 0.9517 - val_loss: 0.2352 - val_acc: 0.9111\n",
      "Epoch 12/20\n",
      "1100/1100 [==============================] - 296s 269ms/step - loss: 0.1468 - acc: 0.9518 - val_loss: 0.1926 - val_acc: 0.9383\n",
      "Epoch 13/20\n",
      "1100/1100 [==============================] - 296s 269ms/step - loss: 0.1441 - acc: 0.9514 - val_loss: 0.1969 - val_acc: 0.9298\n",
      "Epoch 14/20\n",
      "1100/1100 [==============================] - 296s 269ms/step - loss: 0.1325 - acc: 0.9557 - val_loss: 0.1892 - val_acc: 0.9349\n",
      "Epoch 15/20\n",
      "1100/1100 [==============================] - 297s 270ms/step - loss: 0.1351 - acc: 0.9550 - val_loss: 0.1984 - val_acc: 0.9343\n",
      "Epoch 16/20\n",
      "1100/1100 [==============================] - 295s 268ms/step - loss: 0.1298 - acc: 0.9569 - val_loss: 0.1940 - val_acc: 0.9309\n",
      "Epoch 17/20\n",
      "1100/1100 [==============================] - 296s 269ms/step - loss: 0.1293 - acc: 0.9574 - val_loss: 0.2776 - val_acc: 0.9142\n",
      "Epoch 18/20\n",
      "1100/1100 [==============================] - 297s 270ms/step - loss: 0.1259 - acc: 0.9578 - val_loss: 0.2434 - val_acc: 0.9150\n",
      "Epoch 19/20\n",
      "1100/1100 [==============================] - 296s 269ms/step - loss: 0.1250 - acc: 0.9575 - val_loss: 0.2166 - val_acc: 0.9320\n",
      "Epoch 20/20\n",
      "1100/1100 [==============================] - 297s 270ms/step - loss: 0.1261 - acc: 0.9570 - val_loss: 0.1933 - val_acc: 0.9335\n"
     ]
    },
    {
     "data": {
      "text/plain": [
       "<tensorflow.python.keras.callbacks.History at 0x128a3490ef0>"
      ]
     },
     "execution_count": 18,
     "metadata": {},
     "output_type": "execute_result"
    }
   ],
   "source": [
    "train_datagen = ImageDataGenerator(rescale=1./255,\n",
    "                                   shear_range=0.2,\n",
    "                                   zoom_range=0.2,\n",
    "                                   horizontal_flip=True)\n",
    "\n",
    "test_datagen = ImageDataGenerator(rescale=1./255)\n",
    "\n",
    "training_set = train_datagen.flow_from_directory(r'C:\\Users\\PRATUSH\\Desktop\\cell_images_1\\training_set', \n",
    "                                                 target_size=(64, 64), \n",
    "                                                 batch_size=32, \n",
    "                                                 class_mode='binary')\n",
    "\n",
    "test_set = test_datagen.flow_from_directory(r'C:\\Users\\PRATUSH\\Desktop\\cell_images_1\\test_set', \n",
    "                                            target_size=(64, 64), \n",
    "                                            batch_size=32, \n",
    "                                            class_mode='binary')\n",
    "\n",
    "classifier.fit_generator(training_set,\n",
    "                         steps_per_epoch=1100,\n",
    "                         epochs=20,\n",
    "                         validation_data=test_set,\n",
    "                         validation_steps=5558)\n",
    "\n"
   ]
  },
  {
   "cell_type": "code",
   "execution_count": null,
   "metadata": {},
   "outputs": [],
   "source": []
  }
 ],
 "metadata": {
  "kernelspec": {
   "display_name": "Python 3",
   "language": "python",
   "name": "python3"
  },
  "language_info": {
   "codemirror_mode": {
    "name": "ipython",
    "version": 3
   },
   "file_extension": ".py",
   "mimetype": "text/x-python",
   "name": "python",
   "nbconvert_exporter": "python",
   "pygments_lexer": "ipython3",
   "version": "3.5.5"
  }
 },
 "nbformat": 4,
 "nbformat_minor": 2
}
